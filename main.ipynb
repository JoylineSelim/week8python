# %% [markdown]
"""
# COVID-19 Global Data Tracker

This notebook analyzes global COVID-19 trends including cases, deaths, and vaccinations.

Data Source: Our World in Data (https://ourworldindata.org/covid-cases)
"""

# %%
# Import required libraries
import pandas as pd
import numpy as np
import matplotlib.pyplot as plt
import seaborn as sns
import plotly.express as px
from datetime import datetime
import warnings

warnings.filterwarnings('ignore')
plt.style.use('seaborn')
pd.set_option('display.max_columns', None)

# %% [markdown]
"""
## 1. Data Collection and Loading

We'll use the Our World in Data COVID-19 dataset.
"""

# %%
# Load the dataset
try:
    df = pd.read_csv('owid-covid-data.csv')
    print("Data loaded successfully!")
    print(f"Shape: {df.shape}")
except FileNotFoundError:
    print("Error: File not found. Please download the dataset first.")
    print("Download from: https://ourworldindata.org/covid-cases")

# %% [markdown]
"""
## 2. Data Exploration

Let's examine the structure of our dataset.
"""

# %%
# Display basic information
print("\n=== Dataset Info ===")
print(df.info())

# Display first few rows
print("\n=== First 5 Rows ===")
print(df.head())

# Check missing values
print("\n=== Missing Values ===")
print(df.isnull().sum().sort_values(ascending=False)[:20])  # Top 20 columns with missing values

# %% [markdown]
"""
## 3. Data Cleaning

We'll clean and prepare the data for analysis.
"""

# %%
# Convert date column to datetime
df['date'] = pd.to_datetime(df['date'])

# Filter for specific countries
countries = ['United States', 'India', 'Brazil', 'United Kingdom', 'Kenya', 'South Africa']
df_filtered = df[df['location'].isin(countries)].copy()

# Handle missing values for key columns
key_columns = ['total_cases', 'new_cases', 'total_deaths', 'new_deaths', 
               'total_vaccinations', 'people_vaccinated', 'population']
df_filtered[key_columns] = df_filtered[key_columns].fillna(0)

# Calculate death rate
df_filtered['death_rate'] = df_filtered['total_deaths'] / df_filtered['total_cases']
df_filtered['death_rate'] = df_filtered['death_rate'].replace([np.inf, -np.inf], np.nan)

# Get latest data snapshot
latest_date = df_filtered['date'].max()
df_latest = df_filtered[df_filtered['date'] == latest_date]

print(f"\nData filtered to {len(countries)} countries. Latest date: {latest_date.date()}")

# %% [markdown]
"""
## 4. Exploratory Data Analysis (EDA)

Let's analyze COVID-19 trends over time.
"""

# %%
# Set up visualization defaults
plt.figure(figsize=(15, 10))
sns.set_palette("husl")

# %% [markdown]
"""
### Total Cases Over Time
"""

# %%
plt.subplot(2, 2, 1)
for country in countries:
    country_data = df_filtered[df_filtered['location'] == country]
    plt.plot(country_data['date'], country_data['total_cases'], label=country)
plt.title('Total COVID-19 Cases Over Time')
plt.xlabel('Date')
plt.ylabel('Total Cases (millions)')
plt.legend()
plt.xticks(rotation=45)
plt.grid(True)

# %% [markdown]
"""
### Total Deaths Over Time
"""

# %%
plt.subplot(2, 2, 2)
for country in countries:
    country_data = df_filtered[df_filtered['location'] == country]
    plt.plot(country_data['date'], country_data['total_deaths'], label=country)
plt.title('Total COVID-19 Deaths Over Time')
plt.xlabel('Date')
plt.ylabel('Total Deaths')
plt.legend()
plt.xticks(rotation=45)
plt.grid(True)

# %% [markdown]
"""
### Daily New Cases (7-day average)
"""

# %%
plt.subplot(2, 2, 3)
for country in countries:
    country_data = df_filtered[df_filtered['location'] == country]
    plt.plot(country_data['date'], country_data['new_cases'].rolling(7).mean(), label=country)
plt.title('Daily New Cases (7-day average)')
plt.xlabel('Date')
plt.ylabel('New Cases')
plt.legend()
plt.xticks(rotation=45)
plt.grid(True)

# %% [markdown]
"""
### Death Rate Over Time
"""

# %%
plt.subplot(2, 2, 4)
for country in countries:
    country_data = df_filtered[df_filtered['location'] == country]
    plt.plot(country_data['date'], country_data['death_rate'], label=country)
plt.title('Death Rate Over Time')
plt.xlabel('Date')
plt.ylabel('Death Rate (Deaths/Cases)')
plt.legend()
plt.xticks(rotation=45)
plt.grid(True)

plt.tight_layout()
plt.show()

# %% [markdown]
"""
## 5. Vaccination Analysis

Let's examine vaccination progress across countries.
"""

# %%
plt.figure(figsize=(15, 5))

# %% [markdown]
"""
### Total Vaccinations Over Time
"""

# %%
plt.subplot(1, 2, 1)
for country in countries:
    country_data = df_filtered[df_filtered['location'] == country]
    plt.plot(country_data['date'], country_data['total_vaccinations'], label=country)
plt.title('Total Vaccinations Over Time')
plt.xlabel('Date')
plt.ylabel('Total Vaccinations')
plt.legend()
plt.xticks(rotation=45)
plt.grid(True)

# %% [markdown]
"""
### Percentage of Population Vaccinated
"""

# %%
plt.subplot(1, 2, 2)
df_latest['pct_vaccinated'] = (df_latest['people_vaccinated'] / df_latest['population']) * 100
sns.barplot(x='pct_vaccinated', y='location', data=df_latest.sort_values('pct_vaccinated', ascending=False))
plt.title('Percentage of Population Vaccinated')
plt.xlabel('Percent Vaccinated')
plt.ylabel('Country')
plt.grid(True)

plt.tight_layout()
plt.show()

# %% [markdown]
"""
## 6. Choropleth Map (Global View)

Visualizing global case data on a map.
"""

# %%
# Prepare data for choropleth
df_global_latest = df[df['date'] == latest_date]

# Create choropleth
fig = px.choropleth(df_global_latest, 
                    locations="iso_code",
                    color="total_cases_per_million",
                    hover_name="location",
                    hover_data=["total_cases", "total_deaths"],
                    color_continuous_scale=px.colors.sequential.Plasma,
                    title=f"Global COVID-19 Cases per Million (as of {latest_date.date()})")
fig.show()

# %% [markdown]
"""
## 7. Key Insights and Findings

1. **Case Trends**: 
   - The United States had the highest total cases among the analyzed countries
   - All countries showed similar growth patterns with waves of infections

2. **Death Rates**: 
   - Death rates varied significantly between countries
   - Rates generally decreased over time, likely due to improved treatments and vaccination

3. **Vaccination Progress**: 
   - The UK and US had the highest vaccination rates among the analyzed countries
   - Developing nations like Kenya and South Africa lagged in vaccination percentages

4. **Global Patterns**: 
   - The choropleth map shows Europe and Americas had the highest cases per million
   - Africa generally showed lower case numbers, though testing rates may affect this

5. **Anomalies**: 
   - Brazil showed a particularly high death rate compared to other countries
   - India experienced a dramatic spike in cases during its Delta variant wave
"""

# %% [markdown]
"""
## Conclusion

This analysis provides a comprehensive view of COVID-19 trends across selected countries. The visualizations highlight:

- The progression of the pandemic over time
- Differences in national responses and outcomes
- The global vaccination effort and disparities in access

Further analysis could incorporate:
- More detailed demographic breakdowns
- Economic impacts
- Healthcare system capacity metrics
"""
